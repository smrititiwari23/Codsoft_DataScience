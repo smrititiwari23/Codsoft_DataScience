{
  "cells": [
    {
      "cell_type": "markdown",
      "id": "d8ae441a-5270-4c1a-95f0-d7748a4dfa16",
      "metadata": {
        "id": "d8ae441a-5270-4c1a-95f0-d7748a4dfa16"
      },
      "source": [
        "# SALES PREDICTION USING PYTHON\n",
        "## Sham Hiruthik\n",
        "Sales prediction means predicting how much of a product people will buy based on factors\n",
        "such as the amount you spend to advertise your product, the segment of people you\n",
        "advertise for, or the platform you are advertising on about your product\n",
        "Typically, a product and service-based business always need their Data Scientist to predict\n",
        "their future sales with every step they take to manipulate the cost of advertising their\n",
        "product. So let’s start the task of sales prediction with machine learning using Python.e.\n"
      ]
    },
    {
      "cell_type": "code",
      "execution_count": null,
      "id": "04c2194b-c7ec-4e90-9f05-1aa0fa81bff6",
      "metadata": {
        "id": "04c2194b-c7ec-4e90-9f05-1aa0fa81bff6"
      },
      "outputs": [],
      "source": [
        "# Importing lib\n",
        "import pandas as pd\n",
        "import numpy as np\n",
        "import seaborn as sns\n",
        "import matplotlib.pyplot as plt\n",
        "plt.style.use('ggplot')\n",
        "import warnings\n",
        "warnings.simplefilter('ignore')"
      ]
    },
    {
      "cell_type": "code",
      "execution_count": null,
      "id": "b0185b56-7e73-49bc-bba9-88a6e42f7f7b",
      "metadata": {
        "id": "b0185b56-7e73-49bc-bba9-88a6e42f7f7b"
      },
      "outputs": [],
      "source": [
        "# Data ingestion\n",
        "df = pd.read_csv('Advertising.csv')"
      ]
    },
    {
      "cell_type": "code",
      "execution_count": null,
      "id": "cab5161e-d0fd-41fe-8980-222535b97813",
      "metadata": {
        "id": "cab5161e-d0fd-41fe-8980-222535b97813"
      },
      "outputs": [],
      "source": [
        "# Preview data\n",
        "df.head()"
      ]
    },
    {
      "cell_type": "code",
      "execution_count": null,
      "id": "c75dccca-1ba5-45f5-ab48-6fc4c188733e",
      "metadata": {
        "id": "c75dccca-1ba5-45f5-ab48-6fc4c188733e"
      },
      "outputs": [],
      "source": [
        "# Checking for shape\n",
        "df.shape"
      ]
    },
    {
      "cell_type": "code",
      "execution_count": null,
      "id": "2ab4eacb-eb94-4544-9d00-0ddc0fcc32ec",
      "metadata": {
        "id": "2ab4eacb-eb94-4544-9d00-0ddc0fcc32ec"
      },
      "outputs": [],
      "source": [
        "# Checking basic information about dataset\n",
        "df.info()"
      ]
    },
    {
      "cell_type": "code",
      "execution_count": null,
      "id": "2f7923f7-5a63-4985-9ea6-e0ef67f97c58",
      "metadata": {
        "id": "2f7923f7-5a63-4985-9ea6-e0ef67f97c58"
      },
      "outputs": [],
      "source": [
        "# Descriptive stats\n",
        "df.describe()"
      ]
    },
    {
      "cell_type": "code",
      "execution_count": null,
      "id": "d36f9599-6344-406e-8fa1-4f686fac8477",
      "metadata": {
        "id": "d36f9599-6344-406e-8fa1-4f686fac8477"
      },
      "outputs": [],
      "source": [
        "# Check for columns\n",
        "df.columns"
      ]
    },
    {
      "cell_type": "code",
      "execution_count": null,
      "id": "74e3e8d6-3dc0-4623-98d1-4d9164f193f0",
      "metadata": {
        "id": "74e3e8d6-3dc0-4623-98d1-4d9164f193f0"
      },
      "outputs": [],
      "source": [
        "# Drop 'Unnamed: 0'\n",
        "df.drop('Unnamed: 0',axis=1,inplace=True)\n",
        "# Preview the data\n",
        "df.head()"
      ]
    },
    {
      "cell_type": "code",
      "execution_count": null,
      "id": "13bba40c-1053-4a33-aed4-d5e4761b1e81",
      "metadata": {
        "id": "13bba40c-1053-4a33-aed4-d5e4761b1e81"
      },
      "outputs": [],
      "source": [
        "# Check for duplicates\n",
        "df.duplicated().sum()"
      ]
    },
    {
      "cell_type": "code",
      "execution_count": null,
      "id": "707e8433-fb26-4e7d-9836-ddb934260924",
      "metadata": {
        "id": "707e8433-fb26-4e7d-9836-ddb934260924"
      },
      "outputs": [],
      "source": [
        "# Check for null values\n",
        "df.isnull().sum()"
      ]
    },
    {
      "cell_type": "code",
      "execution_count": null,
      "id": "27d270a9-b058-4973-aaac-b668310d1257",
      "metadata": {
        "id": "27d270a9-b058-4973-aaac-b668310d1257"
      },
      "outputs": [],
      "source": [
        "# Visualize data\n",
        "sns.scatterplot(data=df,x='TV',y='Sales',color='blue')\n",
        "plt.title('TV vs Sales')\n",
        "plt.show()"
      ]
    },
    {
      "cell_type": "code",
      "execution_count": null,
      "id": "a2dbbf6a-d206-4d00-8f74-45a7983defd8",
      "metadata": {
        "id": "a2dbbf6a-d206-4d00-8f74-45a7983defd8"
      },
      "outputs": [],
      "source": [
        "sns.scatterplot(data=df,x='Radio',y='Sales',color='blue')\n",
        "plt.title('Radio vs Sales')\n",
        "plt.show()"
      ]
    },
    {
      "cell_type": "code",
      "execution_count": null,
      "id": "3cd3c052-6f0c-4ee5-ad97-24b57dec26bc",
      "metadata": {
        "id": "3cd3c052-6f0c-4ee5-ad97-24b57dec26bc"
      },
      "outputs": [],
      "source": [
        "sns.scatterplot(data=df,x='Newspaper',y='Sales',color='blue')\n",
        "plt.title('Newspaper vs Sales')\n",
        "plt.show()"
      ]
    },
    {
      "cell_type": "code",
      "execution_count": null,
      "id": "6b8792f3-a7f2-402d-9a86-6217c2e3aa3f",
      "metadata": {
        "id": "6b8792f3-a7f2-402d-9a86-6217c2e3aa3f"
      },
      "outputs": [],
      "source": [
        "# Segregating into independent and dependent\n",
        "X = df.iloc[:,:-1]\n",
        "y = df['Sales']"
      ]
    },
    {
      "cell_type": "code",
      "execution_count": null,
      "id": "d0ab5a68-3c67-4772-a265-144568159b9d",
      "metadata": {
        "id": "d0ab5a68-3c67-4772-a265-144568159b9d"
      },
      "outputs": [],
      "source": [
        "# Train test and split\n",
        "from sklearn.model_selection import train_test_split\n",
        "X_train, X_test, y_train,y_test = train_test_split(X,y,test_size = 0.20, random_state = 0)"
      ]
    },
    {
      "cell_type": "code",
      "execution_count": null,
      "id": "34c30d67-56a6-4c5e-a68a-9a58cc49a8d9",
      "metadata": {
        "id": "34c30d67-56a6-4c5e-a68a-9a58cc49a8d9"
      },
      "outputs": [],
      "source": [
        "# Model training\n",
        "from sklearn.tree import DecisionTreeRegressor\n",
        "from sklearn.linear_model import LinearRegression\n",
        "from sklearn.ensemble import RandomForestRegressor\n",
        "from sklearn.metrics import r2_score"
      ]
    },
    {
      "cell_type": "code",
      "execution_count": null,
      "id": "92a2bbb8-0fc3-4560-873a-212e23984172",
      "metadata": {
        "id": "92a2bbb8-0fc3-4560-873a-212e23984172"
      },
      "outputs": [],
      "source": [
        "models = {\n",
        "    'dt' : DecisionTreeRegressor(),\n",
        "    'lr' : LinearRegression(),\n",
        "    'random' : RandomForestRegressor()\n",
        "}"
      ]
    },
    {
      "cell_type": "code",
      "execution_count": null,
      "id": "f5f18c1d-1a4b-4f45-9ddc-11b7887ad622",
      "metadata": {
        "id": "f5f18c1d-1a4b-4f45-9ddc-11b7887ad622"
      },
      "outputs": [],
      "source": [
        "report = {}\n",
        "for i in range(len(list(models))):\n",
        "            model = list(models.values())[i]\n",
        "            print(f\"Model Training started with {model}\")\n",
        "            model.fit(X_train,y_train)\n",
        "            print(f\"Training completed successfully\")\n",
        "            y_test_pred = model.predict(X_test)\n",
        "            print(\"Calculating score\")\n",
        "            test_model_score = r2_score(y_test, y_test_pred)\n",
        "            print(f\"Calculted score: {round(test_model_score*100,2)}% for {model}\")\n",
        "            print(\"==\"*30)\n",
        "            report[list(models.keys())[i]] = test_model_score"
      ]
    },
    {
      "cell_type": "code",
      "execution_count": null,
      "id": "836404ef-3929-4fea-a831-c6b81b253620",
      "metadata": {
        "id": "836404ef-3929-4fea-a831-c6b81b253620"
      },
      "outputs": [],
      "source": [
        "# We will select randomforest\n",
        "random = RandomForestRegressor()"
      ]
    },
    {
      "cell_type": "code",
      "execution_count": null,
      "id": "b2169e66-f65b-45d6-9c4d-646071b01c7c",
      "metadata": {
        "id": "b2169e66-f65b-45d6-9c4d-646071b01c7c"
      },
      "outputs": [],
      "source": [
        "random.fit(X_train,y_train)\n",
        "y_pred = random.predict(X_test)"
      ]
    },
    {
      "cell_type": "code",
      "execution_count": null,
      "id": "2e942fd5-f7a9-4c87-bb3c-69214e8ff79c",
      "metadata": {
        "id": "2e942fd5-f7a9-4c87-bb3c-69214e8ff79c"
      },
      "outputs": [],
      "source": [
        "df.iloc[6].values"
      ]
    },
    {
      "cell_type": "code",
      "execution_count": null,
      "id": "36ccc4e8-43bf-4ab9-80a4-3d3dde2f4f42",
      "metadata": {
        "id": "36ccc4e8-43bf-4ab9-80a4-3d3dde2f4f42"
      },
      "outputs": [],
      "source": [
        "model.predict([[57.5, 32.8, 23.5]])[0]"
      ]
    }
  ],
  "metadata": {
    "kernelspec": {
      "display_name": "Python 3 (ipykernel)",
      "language": "python",
      "name": "python3"
    },
    "language_info": {
      "codemirror_mode": {
        "name": "ipython",
        "version": 3
      },
      "file_extension": ".py",
      "mimetype": "text/x-python",
      "name": "python",
      "nbconvert_exporter": "python",
      "pygments_lexer": "ipython3",
      "version": "3.11.4"
    },
    "colab": {
      "provenance": []
    }
  },
  "nbformat": 4,
  "nbformat_minor": 5
}